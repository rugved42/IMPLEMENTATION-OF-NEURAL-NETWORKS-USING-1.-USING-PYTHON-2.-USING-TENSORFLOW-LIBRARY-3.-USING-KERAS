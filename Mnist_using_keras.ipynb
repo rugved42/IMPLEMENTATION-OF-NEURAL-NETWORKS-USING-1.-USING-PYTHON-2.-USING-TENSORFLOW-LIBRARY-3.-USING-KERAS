{
 "cells": [
  {
   "cell_type": "code",
   "execution_count": 16,
   "metadata": {},
   "outputs": [
    {
     "name": "stdout",
     "output_type": "stream",
     "text": [
      "Epoch 1/5\n",
      "60000/60000 [==============================] - 32s 540us/step - loss: 0.4673 - acc: 0.83090s - loss: 0.4689 - acc:\n",
      "Epoch 2/5\n",
      "60000/60000 [==============================] - 32s 538us/step - loss: 0.3167 - acc: 0.8869\n",
      "Epoch 3/5\n",
      "60000/60000 [==============================] - 33s 542us/step - loss: 0.2762 - acc: 0.9001\n",
      "Epoch 4/5\n",
      "60000/60000 [==============================] - 33s 543us/step - loss: 0.2511 - acc: 0.90864s - lo\n",
      "Epoch 5/5\n",
      "60000/60000 [==============================] - 32s 541us/step - loss: 0.2280 - acc: 0.9171\n",
      "10000/10000 [==============================] - 2s 209us/step\n",
      "Test loss 0.2632779253363609\n",
      "Test accuracy 0.9047\n",
      "[[861   3  22   8   6   1  95   0   4   0]\n",
      " [  3 983   0  12   1   0   1   0   0   0]\n",
      " [ 14   2 851   8  52   0  73   0   0   0]\n",
      " [ 25  10  10 901  20   0  34   0   0   0]\n",
      " [  1   1  28  35 880   1  53   0   1   0]\n",
      " [  0   0   0   0   0 976   0  14   1   9]\n",
      " [134   2  61  21  78   0 699   0   5   0]\n",
      " [  0   0   0   0   0  14   0 963   0  23]\n",
      " [  2   1   6   3   4   3   9   3 969   0]\n",
      " [  0   0   0   0   0   4   1  31   0 964]]\n",
      "              precision    recall  f1-score   support\n",
      "\n",
      "           0       0.83      0.86      0.84      1000\n",
      "           1       0.98      0.98      0.98      1000\n",
      "           2       0.87      0.85      0.86      1000\n",
      "           3       0.91      0.90      0.91      1000\n",
      "           4       0.85      0.88      0.86      1000\n",
      "           5       0.98      0.98      0.98      1000\n",
      "           6       0.72      0.70      0.71      1000\n",
      "           7       0.95      0.96      0.96      1000\n",
      "           8       0.99      0.97      0.98      1000\n",
      "           9       0.97      0.96      0.97      1000\n",
      "\n",
      "    accuracy                           0.90     10000\n",
      "   macro avg       0.90      0.90      0.90     10000\n",
      "weighted avg       0.90      0.90      0.90     10000\n",
      "\n"
     ]
    },
    {
     "data": {
      "image/png": "[encoded data removed]",
      "text/plain": [
       "<Figure size 432x288 with 1 Axes>"
      ]
     },
     "metadata": {
      "needs_background": "light"
     },
     "output_type": "display_data"
    }
   ],
   "source": [
    "import keras\n",
    "from keras.datasets import fashion_mnist\n",
    "from keras.layers import Dense, Activation, Flatten, Conv2D, MaxPooling2D\n",
    "from keras.models import Sequential\n",
    "from keras.utils import to_categorical\n",
    "import numpy as np\n",
    "import matplotlib.pyplot as plt\n",
    "from sklearn.multiclass import OneVsRestClassifier\n",
    "from sklearn.metrics import classification_report\n",
    "from sklearn.metrics import average_precision_score\n",
    "from sklearn import preprocessing\n",
    "from sklearn.model_selection import train_test_split\n",
    "from sklearn.metrics import confusion_matrix\n",
    "\n",
    "(X_train,Y_train), (X_test,Y_test) = fashion_mnist.load_data()\n",
    "\n",
    "X_train = X_train.reshape(-1, 28,28, 1)\n",
    "X_test = X_test.reshape(-1, 28,28, 1)\n",
    "\n",
    "X_train = X_train.astype('float32')\n",
    "X_test = X_test.astype('float32')\n",
    "X_train = X_train / 255\n",
    "X_test = X_test / 255\n",
    "\n",
    "Y_train_t_h = to_categorical(Y_train)\n",
    "Y_test_t_h = to_categorical(Y_test)\n",
    "\n",
    "model = Sequential()\n",
    "\n",
    "model.add(Conv2D(64, (3,3), input_shape=(28, 28, 1)))\n",
    "model.add(Activation('relu'))\n",
    "model.add(MaxPooling2D(pool_size=(2,2)))\n",
    "\n",
    "model.add(Conv2D(64, (3,3)))\n",
    "model.add(Activation('relu'))\n",
    "model.add(MaxPooling2D(pool_size=(2,2)))\n",
    "\n",
    "model.add(Flatten())\n",
    "model.add(Dense(64))\n",
    "\n",
    "model.add(Dense(10))\n",
    "model.add(Activation('softmax'))\n",
    "\n",
    "model.compile(loss=keras.losses.categorical_crossentropy, optimizer=keras.optimizers.Adam(),metrics=['accuracy'])\n",
    "\n",
    "history = model.fit(X_train, Y_train_t_h, batch_size=64, epochs=5)\n",
    "\n",
    "plt.plot(history.history['loss'])\n",
    "\n",
    "test_loss, test_acc = model.evaluate(X_test, Y_test_t_h)\n",
    "print('Test loss', test_loss)\n",
    "print('Test accuracy', test_acc)\n",
    "\n",
    "test_predictions = model.predict_classes(X_test)\n",
    "\n",
    "from sklearn.metrics import confusion_matrix\n",
    "\n",
    "confusion_matrix = confusion_matrix(y_true = Y_test, y_pred = test_predictions)\n",
    "print(confusion_matrix)\n",
    "print(classification_report(y_true = Y_test, y_pred = test_predictions))  "
   ]
  },
  {
   "cell_type": "code",
   "execution_count": null,
   "metadata": {},
   "outputs": [],
   "source": []
  },
  {
   "cell_type": "code",
   "execution_count": null,
   "metadata": {},
   "outputs": [],
   "source": []
  }
 ],
 "metadata": {
  "kernelspec": {
   "display_name": "Python 3",
   "language": "python",
   "name": "python3"
  },
  "language_info": {
   "codemirror_mode": {
    "name": "ipython",
    "version": 3
   },
   "file_extension": ".py",
   "mimetype": "text/x-python",
   "name": "python",
   "nbconvert_exporter": "python",
   "pygments_lexer": "ipython3",
   "version": "3.7.3"
  }
 },
 "nbformat": 4,
 "nbformat_minor": 2
}
