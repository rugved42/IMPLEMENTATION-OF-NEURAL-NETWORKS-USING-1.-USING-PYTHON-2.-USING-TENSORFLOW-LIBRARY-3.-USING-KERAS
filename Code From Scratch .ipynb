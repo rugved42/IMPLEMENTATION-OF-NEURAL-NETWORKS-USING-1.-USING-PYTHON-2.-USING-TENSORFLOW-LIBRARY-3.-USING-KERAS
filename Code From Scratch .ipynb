{
 "cells": [
  {
   "cell_type": "code",
   "execution_count": 2,
   "metadata": {},
   "outputs": [
    {
     "name": "stdout",
     "output_type": "stream",
     "text": [
      "70000\n"
     ]
    },
    {
     "data": {
      "image/png": "[encoded data removed]",
      "text/plain": [
       "<Figure size 432x288 with 1 Axes>"
      ]
     },
     "metadata": {
      "needs_background": "light"
     },
     "output_type": "display_data"
    },
    {
     "name": "stdout",
     "output_type": "stream",
     "text": [
      "[0. 0. 0. 0. 1. 0. 0. 0. 0. 0.]\n",
      "Epoch 0 cost:  9.990735441552415\n",
      "Epoch 100 cost:  0.9483808670685154\n",
      "Epoch 200 cost:  0.7967245511928275\n",
      "Epoch 300 cost:  0.7241546753117123\n",
      "Epoch 400 cost:  0.679970144201329\n",
      "Epoch 500 cost:  0.6493260322568961\n",
      "Epoch 600 cost:  0.6261850200327886\n",
      "Epoch 700 cost:  0.6077483856736959\n",
      "Epoch 800 cost:  0.5924867018550029\n",
      "Epoch 900 cost:  0.5794712481653643\n",
      "Final cost: 0.5682830176778694\n"
     ]
    },
    {
     "data": {
      "image/png": "[encoded data removed]",
      "text/plain": [
       "<Figure size 432x288 with 1 Axes>"
      ]
     },
     "metadata": {
      "needs_background": "light"
     },
     "output_type": "display_data"
    },
    {
     "name": "stdout",
     "output_type": "stream",
     "text": [
      "[[781   9  20  37   0   1 170   0   6   1]\n",
      " [  8 929   2  25   4   1   5   0   3   0]\n",
      " [ 25  14 653  17 123   0 134   0  12   2]\n",
      " [ 75  35  12 816  35   0  57   0  10   0]\n",
      " [ 11   8 159  42 700   1 151   0   6   0]\n",
      " [  5   0   1   2   1 851   1  58   9  25]\n",
      " [ 75   3 136  50 127   2 445   0  21   1]\n",
      " [  0   0   0   0   0  77   0 860   8  47]\n",
      " [ 20   2  16  11   9  23  36   1 922   2]\n",
      " [  0   0   1   0   1  44   1  81   3 922]]\n",
      "              precision    recall  f1-score   support\n",
      "\n",
      "           0       0.78      0.76      0.77      1025\n",
      "           1       0.93      0.95      0.94       977\n",
      "           2       0.65      0.67      0.66       980\n",
      "           3       0.82      0.78      0.80      1040\n",
      "           4       0.70      0.65      0.67      1078\n",
      "           5       0.85      0.89      0.87       953\n",
      "           6       0.45      0.52      0.48       860\n",
      "           7       0.86      0.87      0.86       992\n",
      "           8       0.92      0.88      0.90      1042\n",
      "           9       0.92      0.88      0.90      1053\n",
      "\n",
      "    accuracy                           0.79     10000\n",
      "   macro avg       0.79      0.79      0.79     10000\n",
      "weighted avg       0.79      0.79      0.79     10000\n",
      "\n"
     ]
    }
   ],
   "source": [
    "from sklearn.datasets import fetch_openml\n",
    "%matplotlib inline\n",
    "import matplotlib\n",
    "import matplotlib.pyplot as plt\n",
    "import numpy as np\n",
    "from sklearn.multiclass import OneVsRestClassifier\n",
    "from sklearn.metrics import classification_report\n",
    "from sklearn.metrics import average_precision_score\n",
    "from sklearn import preprocessing\n",
    "from sklearn.model_selection import train_test_split\n",
    "from sklearn.metrics import confusion_matrix\n",
    "\n",
    "X, y = fetch_openml('Fashion-MNIST', version=1, return_X_y=True)\n",
    "X = X / 255\n",
    "\n",
    "digits = 10\n",
    "points = y.shape[0]\n",
    "print(points)\n",
    "\n",
    "y = y.reshape(1, points)\n",
    "\n",
    "Y_new = np.eye(digits)[y.astype('int32')]\n",
    "Y_new = Y_new.T.reshape(digits, points)\n",
    "\n",
    "maxi = 60000\n",
    "max_t = X.shape[0] - maxi\n",
    "\n",
    "X_train, X_test = X[:maxi].T, X[maxi:].T\n",
    "Y_train, Y_test = Y_new[:,:maxi], Y_new[:,maxi:]\n",
    "\n",
    "shuffle_index = np.random.permutation(maxi)\n",
    "X_train, Y_train = X_train[:, shuffle_index], Y_train[:, shuffle_index]\n",
    "\n",
    "i = 12\n",
    "plt.imshow(X_train[:,i].reshape(28,28), cmap = matplotlib.cm.binary)\n",
    "plt.axis(\"off\")\n",
    "plt.show()\n",
    "print(Y_train[:,i])\n",
    "\n",
    "def cross_entropy_loss(Y, Y_hat):\n",
    "\n",
    "    L_sum = np.sum(np.multiply(Y, np.log(Y_hat)))\n",
    "    m = Y.shape[1]\n",
    "    L = -(1/m) * L_sum\n",
    "\n",
    "    return L\n",
    "\n",
    "def sigmoid(z):\n",
    "    s = 1 / (1 + np.exp(-z))\n",
    "    return s\n",
    "\n",
    "num_x = X_train.shape[0]\n",
    "num_h = 64\n",
    "learning_rate = 0.5\n",
    "\n",
    "W1 = np.random.randn(num_h, num_x)\n",
    "b1 = np.zeros((num_h, 1))\n",
    "W2 = np.random.randn(digits, num_h)\n",
    "b2 = np.zeros((digits, 1))\n",
    "\n",
    "X = X_train\n",
    "Y = Y_train\n",
    "\n",
    "losstrack = list()\n",
    "\n",
    "for i in range(1000):\n",
    "\n",
    "    Z1 = np.matmul(W1,X) + b1\n",
    "    A1 = sigmoid(Z1)\n",
    "    Z2 = np.matmul(W2,A1) + b2\n",
    "    A2 = np.exp(Z2) / np.sum(np.exp(Z2), axis=0)\n",
    "\n",
    "    cost = cross_entropy_loss(Y, A2)\n",
    "    losstrack.append(np.squeeze(cost))\n",
    "\n",
    "    dZ2 = A2-Y\n",
    "    dW2 = (1./maxi) * np.matmul(dZ2, A1.T)\n",
    "    db2 = (1./maxi) * np.sum(dZ2, axis=1, keepdims=True)\n",
    "\n",
    "    dA1 = np.matmul(W2.T, dZ2)\n",
    "    dZ1 = dA1 * sigmoid(Z1) * (1 - sigmoid(Z1))\n",
    "    dW1 = (1./maxi) * np.matmul(dZ1, X.T)\n",
    "    db1 = (1./maxi) * np.sum(dZ1, axis=1, keepdims=True)\n",
    "\n",
    "    W2 = W2 - learning_rate * dW2\n",
    "    b2 = b2 - learning_rate * db2\n",
    "    W1 = W1 - learning_rate * dW1\n",
    "    b1 = b1 - learning_rate * db1\n",
    "\n",
    "    if (i % 100 == 0):\n",
    "        print(\"Epoch\", i, \"cost: \", cost)\n",
    "\n",
    "print(\"Final cost:\", cost)\n",
    "\n",
    "plt.plot(losstrack)\n",
    "plt.show()\n",
    "\n",
    "Z1 = np.matmul(W1, X_test) + b1\n",
    "A1 = sigmoid(Z1)\n",
    "Z2 = np.matmul(W2, A1) + b2\n",
    "A2 = np.exp(Z2) / np.sum(np.exp(Z2), axis=0)\n",
    "\n",
    "predictions = np.argmax(A2, axis=0)\n",
    "labels = np.argmax(Y_test, axis=0)\n",
    "predictions = np.argmax(A2, axis=0)\n",
    "labels = np.argmax(Y_test, axis=0)\n",
    "\n",
    "print(confusion_matrix(predictions, labels))\n",
    "print(classification_report(predictions, labels))"
   ]
  },
  {
   "cell_type": "code",
   "execution_count": null,
   "metadata": {},
   "outputs": [],
   "source": []
  }
 ],
 "metadata": {
  "kernelspec": {
   "display_name": "Python 3",
   "language": "python",
   "name": "python3"
  },
  "language_info": {
   "codemirror_mode": {
    "name": "ipython",
    "version": 3
   },
   "file_extension": ".py",
   "mimetype": "text/x-python",
   "name": "python",
   "nbconvert_exporter": "python",
   "pygments_lexer": "ipython3",
   "version": "3.7.3"
  }
 },
 "nbformat": 4,
 "nbformat_minor": 2
}
